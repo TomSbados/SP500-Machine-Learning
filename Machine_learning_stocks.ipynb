{
 "cells": [
  {
   "cell_type": "code",
   "execution_count": 29,
   "id": "9aef1209-7b75-44c8-98b3-aa98123a952f",
   "metadata": {},
   "outputs": [],
   "source": [
    "import bs4 as bs\n",
    "import os\n",
    "import pickle\n",
    "import requests\n",
    "import matplotlib.pyplot as plt\n",
    "import numpy as np\n",
    "import pandas as pd\n",
    "import sklearn\n",
    "import datetime as dt\n",
    "from matplotlib import style\n",
    "import mplfinance as mpf\n",
    "import matplotlib.dates as mdates\n",
    "import pandas_datareader.data as web\n",
    "import yfinance as yf\n",
    "import seaborn as sns\n",
    "from collections import Counter\n",
    "from sklearn import svm, neighbors\n",
    "from sklearn.model_selection import train_test_split\n",
    "from sklearn.ensemble import VotingClassifier, RandomForestClassifier\n",
    "\n",
    "\n",
    "style.use('ggplot')"
   ]
  },
  {
   "cell_type": "code",
   "execution_count": 6,
   "id": "e62e2265-a9d7-4c58-a56b-4d351a6b0104",
   "metadata": {},
   "outputs": [],
   "source": [
    "hm_days = 7\n",
    "\n",
    "def process_data_for_labels(ticker):\n",
    "    df = pd.read_csv('join_closes.csv', index_col=0)\n",
    "    tickers = df.columns.values.tolist()\n",
    "    df.fillna(0, inplace=True)\n",
    "    \n",
    "    for i in range(1, hm_days + 1):\n",
    "        df['{}_{}d'.format(ticker, i)] = (df[ticker].shift(-i) - df[ticker]) / df[ticker]\n",
    "    \n",
    "    df.fillna(0, inplace=True)\n",
    "    \n",
    "    return tickers, df"
   ]
  },
  {
   "cell_type": "code",
   "execution_count": 51,
   "id": "4dfef0cb-2f2e-4d00-847e-9b865d25fb77",
   "metadata": {},
   "outputs": [],
   "source": [
    "def buy_sell_hold(*args):\n",
    "    cols = [c for c in args] \n",
    "    requirement = 0.02\n",
    "    for col in cols:\n",
    "        if col > requirement:\n",
    "            return 1\n",
    "        elif col < requirement:\n",
    "            return -1\n",
    "    return 0"
   ]
  },
  {
   "cell_type": "code",
   "execution_count": 52,
   "id": "e03021fb-ab2e-4878-b3b6-be486fe24f8b",
   "metadata": {},
   "outputs": [],
   "source": [
    "def extract_feature_sets(ticker):\n",
    "    tickers, df = process_data_for_labels(ticker)\n",
    "    df['{}_target'.format(ticker)] = list(map( buy_sell_hold,\n",
    "                                               df['{}_2d'.format(ticker)],\n",
    "                                               df['{}_3d'.format(ticker)],\n",
    "                                               df['{}_4d'.format(ticker)],\n",
    "                                               df['{}_5d'.format(ticker)],\n",
    "                                               df['{}_6d'.format(ticker)],\n",
    "                                               df['{}_7d'.format(ticker)]\n",
    "                                               ))\n",
    "    vals = df['{}_target'.format(ticker)].values.tolist()\n",
    "    str_vals = [str(i) for i in vals]\n",
    "    print('Data Spread:', Counter(str_vals))\n",
    "    df.fillna(0, inplace=True)\n",
    "    \n",
    "    df = df.replace([np.inf, -np.inf], np.nan)\n",
    "    df.dropna(inplace=True)\n",
    "    \n",
    "    df_vals = df[[ticker for ticker in tickers]].pct_change()\n",
    "    df_vals = df_vals.replace([np.inf, -np.inf], 0)\n",
    "    df_vals.fillna(0, inplace=True)\n",
    "    \n",
    "    \n",
    "    X = df_vals.values\n",
    "    y = df['{}_target'.format(ticker)].values\n",
    "    \n",
    "    return X, y, df"
   ]
  },
  {
   "cell_type": "code",
   "execution_count": 54,
   "id": "33aee101-4695-4d98-be03-ba8642219001",
   "metadata": {},
   "outputs": [
    {
     "name": "stdout",
     "output_type": "stream",
     "text": [
      "Data Spread: Counter({'-1': 676, '1': 350})\n",
      "Predicted Spread: Counter({-1: 192, 1: 14})\n"
     ]
    },
    {
     "data": {
      "text/plain": [
       "0.6456310679611651"
      ]
     },
     "execution_count": 54,
     "metadata": {},
     "output_type": "execute_result"
    }
   ],
   "source": [
    "def do_ml(ticker):\n",
    "    X, y, df = extract_feature_sets(ticker)\n",
    "     \n",
    "    X_train, X_test, y_train, y_test = train_test_split(X, y, test_size=0.2)\n",
    "    \n",
    "    #clf = neighbors.KNeighborsClassifier()\n",
    "    \n",
    "    clf = VotingClassifier([('lsvc', svm.LinearSVC()), ('knn', neighbors.KNeighborsClassifier()), ('forest', RandomForestClassifier())])\n",
    "    \n",
    "    clf.fit(X_train, y_train)\n",
    "    confidence = clf.score(X_test, y_test)\n",
    "    predictions = clf.predict(X_test)\n",
    "    \n",
    "    print('Predicted Spread:', Counter(predictions))\n",
    "    \n",
    "    return confidence\n",
    "\n",
    "do_ml('TSLA\\n')"
   ]
  },
  {
   "cell_type": "code",
   "execution_count": null,
   "id": "7ac75b7c-4b4d-4854-abcf-3d0294cba126",
   "metadata": {},
   "outputs": [],
   "source": []
  }
 ],
 "metadata": {
  "kernelspec": {
   "display_name": "Python 3 (ipykernel)",
   "language": "python",
   "name": "python3"
  },
  "language_info": {
   "codemirror_mode": {
    "name": "ipython",
    "version": 3
   },
   "file_extension": ".py",
   "mimetype": "text/x-python",
   "name": "python",
   "nbconvert_exporter": "python",
   "pygments_lexer": "ipython3",
   "version": "3.10.9"
  }
 },
 "nbformat": 4,
 "nbformat_minor": 5
}
